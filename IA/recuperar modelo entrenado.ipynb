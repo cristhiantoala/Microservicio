{
 "cells": [
  {
   "cell_type": "code",
   "execution_count": 21,
   "metadata": {},
   "outputs": [],
   "source": [
    "import tensorflow as tf\n",
    "import numpy as np\n",
    "import pandas as pd\n",
    "import matplotlib.pyplot as plt\n",
    "from tensorflow import keras\n",
    "from tensorflow.keras import layers"
   ]
  },
  {
   "cell_type": "code",
   "execution_count": 22,
   "metadata": {},
   "outputs": [],
   "source": [
    "new_model = keras.models.load_model('modelo_entrenado.h5')"
   ]
  },
  {
   "cell_type": "code",
   "execution_count": null,
   "metadata": {},
   "outputs": [],
   "source": []
  },
  {
   "cell_type": "code",
   "execution_count": 23,
   "metadata": {},
   "outputs": [],
   "source": [
    "test_data = pd.read_csv(\"test.csv\")"
   ]
  },
  {
   "cell_type": "code",
   "execution_count": 24,
   "metadata": {},
   "outputs": [],
   "source": [
    "columns_to_extract =['vel','angs','logCountM','distDif','clickD','clickTotalM','backSpaceM','leftSideM','rigthSideM']\n",
    "test_features = test_data[columns_to_extract]"
   ]
  },
  {
   "cell_type": "code",
   "execution_count": 25,
   "metadata": {},
   "outputs": [
    {
     "data": {
      "text/html": [
       "<div>\n",
       "<style scoped>\n",
       "    .dataframe tbody tr th:only-of-type {\n",
       "        vertical-align: middle;\n",
       "    }\n",
       "\n",
       "    .dataframe tbody tr th {\n",
       "        vertical-align: top;\n",
       "    }\n",
       "\n",
       "    .dataframe thead th {\n",
       "        text-align: right;\n",
       "    }\n",
       "</style>\n",
       "<table border=\"1\" class=\"dataframe\">\n",
       "  <thead>\n",
       "    <tr style=\"text-align: right;\">\n",
       "      <th></th>\n",
       "      <th>vel</th>\n",
       "      <th>angs</th>\n",
       "      <th>logCountM</th>\n",
       "      <th>distDif</th>\n",
       "      <th>clickD</th>\n",
       "      <th>clickTotalM</th>\n",
       "      <th>backSpaceM</th>\n",
       "      <th>leftSideM</th>\n",
       "      <th>rigthSideM</th>\n",
       "    </tr>\n",
       "  </thead>\n",
       "  <tbody>\n",
       "    <tr>\n",
       "      <th>0</th>\n",
       "      <td>11960.642699</td>\n",
       "      <td>8402.770491</td>\n",
       "      <td>288</td>\n",
       "      <td>7855.345096</td>\n",
       "      <td>3588.0</td>\n",
       "      <td>3</td>\n",
       "      <td>0</td>\n",
       "      <td>0</td>\n",
       "      <td>0</td>\n",
       "    </tr>\n",
       "    <tr>\n",
       "      <th>1</th>\n",
       "      <td>8211.471301</td>\n",
       "      <td>6794.857838</td>\n",
       "      <td>258</td>\n",
       "      <td>9090.206263</td>\n",
       "      <td>5472.0</td>\n",
       "      <td>4</td>\n",
       "      <td>0</td>\n",
       "      <td>0</td>\n",
       "      <td>0</td>\n",
       "    </tr>\n",
       "    <tr>\n",
       "      <th>2</th>\n",
       "      <td>11172.177459</td>\n",
       "      <td>12810.120540</td>\n",
       "      <td>356</td>\n",
       "      <td>7936.404866</td>\n",
       "      <td>6030.0</td>\n",
       "      <td>4</td>\n",
       "      <td>0</td>\n",
       "      <td>0</td>\n",
       "      <td>0</td>\n",
       "    </tr>\n",
       "    <tr>\n",
       "      <th>3</th>\n",
       "      <td>9743.229241</td>\n",
       "      <td>11920.810348</td>\n",
       "      <td>380</td>\n",
       "      <td>9782.180542</td>\n",
       "      <td>8001.0</td>\n",
       "      <td>5</td>\n",
       "      <td>0</td>\n",
       "      <td>0</td>\n",
       "      <td>0</td>\n",
       "    </tr>\n",
       "    <tr>\n",
       "      <th>4</th>\n",
       "      <td>14981.354442</td>\n",
       "      <td>22129.096386</td>\n",
       "      <td>524</td>\n",
       "      <td>13005.911148</td>\n",
       "      <td>71969.0</td>\n",
       "      <td>9</td>\n",
       "      <td>19</td>\n",
       "      <td>129</td>\n",
       "      <td>122</td>\n",
       "    </tr>\n",
       "  </tbody>\n",
       "</table>\n",
       "</div>"
      ],
      "text/plain": [
       "            vel          angs  logCountM       distDif   clickD  clickTotalM  \\\n",
       "0  11960.642699   8402.770491        288   7855.345096   3588.0            3   \n",
       "1   8211.471301   6794.857838        258   9090.206263   5472.0            4   \n",
       "2  11172.177459  12810.120540        356   7936.404866   6030.0            4   \n",
       "3   9743.229241  11920.810348        380   9782.180542   8001.0            5   \n",
       "4  14981.354442  22129.096386        524  13005.911148  71969.0            9   \n",
       "\n",
       "   backSpaceM  leftSideM  rigthSideM  \n",
       "0           0          0           0  \n",
       "1           0          0           0  \n",
       "2           0          0           0  \n",
       "3           0          0           0  \n",
       "4          19        129         122  "
      ]
     },
     "execution_count": 25,
     "metadata": {},
     "output_type": "execute_result"
    }
   ],
   "source": [
    "test_features.head()"
   ]
  },
  {
   "cell_type": "code",
   "execution_count": 36,
   "metadata": {},
   "outputs": [],
   "source": [
    "hola=np.array(test_features)\n",
    "hola[0].shape\n",
    "a=hola[0].reshape(1,-1)"
   ]
  },
  {
   "cell_type": "code",
   "execution_count": 37,
   "metadata": {},
   "outputs": [],
   "source": [
    "prediction = new_model.predict(a)"
   ]
  },
  {
   "cell_type": "code",
   "execution_count": 38,
   "metadata": {},
   "outputs": [],
   "source": [
    "out =prediction.round().astype(int)"
   ]
  },
  {
   "cell_type": "code",
   "execution_count": 39,
   "metadata": {},
   "outputs": [
    {
     "data": {
      "text/plain": [
       "array([[1, 0, 0]])"
      ]
     },
     "execution_count": 39,
     "metadata": {},
     "output_type": "execute_result"
    }
   ],
   "source": [
    "out"
   ]
  }
 ],
 "metadata": {
  "interpreter": {
   "hash": "d3ebf1d88e4d4281e2b9041c92e7aaf70dffe9a31509acce943b5307fc117db8"
  },
  "kernelspec": {
   "display_name": "tensorflow1.9",
   "language": "python",
   "name": "python3"
  },
  "language_info": {
   "codemirror_mode": {
    "name": "ipython",
    "version": 3
   },
   "file_extension": ".py",
   "mimetype": "text/x-python",
   "name": "python",
   "nbconvert_exporter": "python",
   "pygments_lexer": "ipython3",
   "version": "3.10.2"
  }
 },
 "nbformat": 4,
 "nbformat_minor": 2
}
