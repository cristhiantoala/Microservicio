{
 "cells": [
  {
   "cell_type": "markdown",
   "metadata": {},
   "source": [
    "# Keras Secuencial y Funcional \n"
   ]
  },
  {
   "cell_type": "markdown",
   "metadata": {},
   "source": [
    "### Conjunto de datos"
   ]
  },
  {
   "cell_type": "code",
   "execution_count": 1,
   "metadata": {},
   "outputs": [],
   "source": [
    "# Import required library\n",
    "import tensorflow as tf\n",
    "import numpy as np\n",
    "import pandas as pd\n",
    "import matplotlib.pyplot as plt"
   ]
  },
  {
   "cell_type": "code",
   "execution_count": 216,
   "metadata": {},
   "outputs": [],
   "source": [
    "train_data = pd.read_csv(\"metrics.csv\")"
   ]
  },
  {
   "cell_type": "code",
   "execution_count": 217,
   "metadata": {},
   "outputs": [
    {
     "data": {
      "text/html": [
       "<div>\n",
       "<style scoped>\n",
       "    .dataframe tbody tr th:only-of-type {\n",
       "        vertical-align: middle;\n",
       "    }\n",
       "\n",
       "    .dataframe tbody tr th {\n",
       "        vertical-align: top;\n",
       "    }\n",
       "\n",
       "    .dataframe thead th {\n",
       "        text-align: right;\n",
       "    }\n",
       "</style>\n",
       "<table border=\"1\" class=\"dataframe\">\n",
       "  <thead>\n",
       "    <tr style=\"text-align: right;\">\n",
       "      <th></th>\n",
       "      <th>vel</th>\n",
       "      <th>angs</th>\n",
       "      <th>logCountM</th>\n",
       "      <th>distDif</th>\n",
       "      <th>clickD</th>\n",
       "      <th>clickTotalM</th>\n",
       "      <th>backSpaceM</th>\n",
       "      <th>leftSideM</th>\n",
       "      <th>rigthSideM</th>\n",
       "      <th>stressLevelM</th>\n",
       "    </tr>\n",
       "  </thead>\n",
       "  <tbody>\n",
       "    <tr>\n",
       "      <th>0</th>\n",
       "      <td>1768.591350</td>\n",
       "      <td>33.754428</td>\n",
       "      <td>422</td>\n",
       "      <td>858.677921</td>\n",
       "      <td>19705.0</td>\n",
       "      <td>3</td>\n",
       "      <td>0</td>\n",
       "      <td>0</td>\n",
       "      <td>0</td>\n",
       "      <td>2</td>\n",
       "    </tr>\n",
       "    <tr>\n",
       "      <th>1</th>\n",
       "      <td>2111.446145</td>\n",
       "      <td>30.625793</td>\n",
       "      <td>441</td>\n",
       "      <td>1488.664138</td>\n",
       "      <td>19695.0</td>\n",
       "      <td>3</td>\n",
       "      <td>0</td>\n",
       "      <td>0</td>\n",
       "      <td>0</td>\n",
       "      <td>3</td>\n",
       "    </tr>\n",
       "    <tr>\n",
       "      <th>2</th>\n",
       "      <td>1410.154650</td>\n",
       "      <td>31.546801</td>\n",
       "      <td>325</td>\n",
       "      <td>875.608240</td>\n",
       "      <td>12953.0</td>\n",
       "      <td>4</td>\n",
       "      <td>0</td>\n",
       "      <td>0</td>\n",
       "      <td>0</td>\n",
       "      <td>3</td>\n",
       "    </tr>\n",
       "    <tr>\n",
       "      <th>3</th>\n",
       "      <td>1487.615475</td>\n",
       "      <td>28.488154</td>\n",
       "      <td>296</td>\n",
       "      <td>1217.816882</td>\n",
       "      <td>9752.0</td>\n",
       "      <td>3</td>\n",
       "      <td>0</td>\n",
       "      <td>0</td>\n",
       "      <td>0</td>\n",
       "      <td>3</td>\n",
       "    </tr>\n",
       "    <tr>\n",
       "      <th>4</th>\n",
       "      <td>1155.837119</td>\n",
       "      <td>36.113308</td>\n",
       "      <td>253</td>\n",
       "      <td>313.596228</td>\n",
       "      <td>82273.0</td>\n",
       "      <td>8</td>\n",
       "      <td>10</td>\n",
       "      <td>189</td>\n",
       "      <td>144</td>\n",
       "      <td>2</td>\n",
       "    </tr>\n",
       "  </tbody>\n",
       "</table>\n",
       "</div>"
      ],
      "text/plain": [
       "           vel       angs  logCountM      distDif   clickD  clickTotalM  \\\n",
       "0  1768.591350  33.754428        422   858.677921  19705.0            3   \n",
       "1  2111.446145  30.625793        441  1488.664138  19695.0            3   \n",
       "2  1410.154650  31.546801        325   875.608240  12953.0            4   \n",
       "3  1487.615475  28.488154        296  1217.816882   9752.0            3   \n",
       "4  1155.837119  36.113308        253   313.596228  82273.0            8   \n",
       "\n",
       "   backSpaceM  leftSideM  rigthSideM  stressLevelM  \n",
       "0           0          0           0             2  \n",
       "1           0          0           0             3  \n",
       "2           0          0           0             3  \n",
       "3           0          0           0             3  \n",
       "4          10        189         144             2  "
      ]
     },
     "execution_count": 217,
     "metadata": {},
     "output_type": "execute_result"
    }
   ],
   "source": [
    "train_data.head()"
   ]
  },
  {
   "cell_type": "code",
   "execution_count": 218,
   "metadata": {},
   "outputs": [],
   "source": [
    "train_labels = train_data['stressLevelM']"
   ]
  },
  {
   "cell_type": "code",
   "execution_count": 219,
   "metadata": {},
   "outputs": [],
   "source": [
    "columns_to_extract =['vel','angs','logCountM','distDif','clickD','clickTotalM','backSpaceM','leftSideM','rigthSideM']"
   ]
  },
  {
   "cell_type": "code",
   "execution_count": 220,
   "metadata": {},
   "outputs": [],
   "source": [
    "train_features = train_data[columns_to_extract]"
   ]
  },
  {
   "cell_type": "code",
   "execution_count": 221,
   "metadata": {},
   "outputs": [],
   "source": [
    "train_features = train_features.astype('float32')"
   ]
  },
  {
   "cell_type": "code",
   "execution_count": 222,
   "metadata": {},
   "outputs": [
    {
     "data": {
      "text/html": [
       "<div>\n",
       "<style scoped>\n",
       "    .dataframe tbody tr th:only-of-type {\n",
       "        vertical-align: middle;\n",
       "    }\n",
       "\n",
       "    .dataframe tbody tr th {\n",
       "        vertical-align: top;\n",
       "    }\n",
       "\n",
       "    .dataframe thead th {\n",
       "        text-align: right;\n",
       "    }\n",
       "</style>\n",
       "<table border=\"1\" class=\"dataframe\">\n",
       "  <thead>\n",
       "    <tr style=\"text-align: right;\">\n",
       "      <th></th>\n",
       "      <th>vel</th>\n",
       "      <th>angs</th>\n",
       "      <th>logCountM</th>\n",
       "      <th>distDif</th>\n",
       "      <th>clickD</th>\n",
       "      <th>clickTotalM</th>\n",
       "      <th>backSpaceM</th>\n",
       "      <th>leftSideM</th>\n",
       "      <th>rigthSideM</th>\n",
       "    </tr>\n",
       "  </thead>\n",
       "  <tbody>\n",
       "    <tr>\n",
       "      <th>0</th>\n",
       "      <td>1768.591309</td>\n",
       "      <td>33.754429</td>\n",
       "      <td>422.0</td>\n",
       "      <td>858.677917</td>\n",
       "      <td>19705.0</td>\n",
       "      <td>3.0</td>\n",
       "      <td>0.0</td>\n",
       "      <td>0.0</td>\n",
       "      <td>0.0</td>\n",
       "    </tr>\n",
       "    <tr>\n",
       "      <th>1</th>\n",
       "      <td>2111.446045</td>\n",
       "      <td>30.625793</td>\n",
       "      <td>441.0</td>\n",
       "      <td>1488.664185</td>\n",
       "      <td>19695.0</td>\n",
       "      <td>3.0</td>\n",
       "      <td>0.0</td>\n",
       "      <td>0.0</td>\n",
       "      <td>0.0</td>\n",
       "    </tr>\n",
       "    <tr>\n",
       "      <th>2</th>\n",
       "      <td>1410.154663</td>\n",
       "      <td>31.546801</td>\n",
       "      <td>325.0</td>\n",
       "      <td>875.608215</td>\n",
       "      <td>12953.0</td>\n",
       "      <td>4.0</td>\n",
       "      <td>0.0</td>\n",
       "      <td>0.0</td>\n",
       "      <td>0.0</td>\n",
       "    </tr>\n",
       "    <tr>\n",
       "      <th>3</th>\n",
       "      <td>1487.615479</td>\n",
       "      <td>28.488153</td>\n",
       "      <td>296.0</td>\n",
       "      <td>1217.816895</td>\n",
       "      <td>9752.0</td>\n",
       "      <td>3.0</td>\n",
       "      <td>0.0</td>\n",
       "      <td>0.0</td>\n",
       "      <td>0.0</td>\n",
       "    </tr>\n",
       "    <tr>\n",
       "      <th>4</th>\n",
       "      <td>1155.837158</td>\n",
       "      <td>36.113308</td>\n",
       "      <td>253.0</td>\n",
       "      <td>313.596222</td>\n",
       "      <td>82273.0</td>\n",
       "      <td>8.0</td>\n",
       "      <td>10.0</td>\n",
       "      <td>189.0</td>\n",
       "      <td>144.0</td>\n",
       "    </tr>\n",
       "  </tbody>\n",
       "</table>\n",
       "</div>"
      ],
      "text/plain": [
       "           vel       angs  logCountM      distDif   clickD  clickTotalM  \\\n",
       "0  1768.591309  33.754429      422.0   858.677917  19705.0          3.0   \n",
       "1  2111.446045  30.625793      441.0  1488.664185  19695.0          3.0   \n",
       "2  1410.154663  31.546801      325.0   875.608215  12953.0          4.0   \n",
       "3  1487.615479  28.488153      296.0  1217.816895   9752.0          3.0   \n",
       "4  1155.837158  36.113308      253.0   313.596222  82273.0          8.0   \n",
       "\n",
       "   backSpaceM  leftSideM  rigthSideM  \n",
       "0         0.0        0.0         0.0  \n",
       "1         0.0        0.0         0.0  \n",
       "2         0.0        0.0         0.0  \n",
       "3         0.0        0.0         0.0  \n",
       "4        10.0      189.0       144.0  "
      ]
     },
     "execution_count": 222,
     "metadata": {},
     "output_type": "execute_result"
    }
   ],
   "source": [
    "train_features.head()"
   ]
  },
  {
   "cell_type": "code",
   "execution_count": 223,
   "metadata": {},
   "outputs": [],
   "source": [
    "train_features=train_features.to_numpy()"
   ]
  },
  {
   "cell_type": "code",
   "execution_count": 224,
   "metadata": {},
   "outputs": [],
   "source": [
    "train_labels = pd.concat([train_labels, pd.get_dummies(train_labels,prefix='stressLevelM')],axis=1)\n",
    "train_labels.drop(['stressLevelM'], axis=1, inplace=True)"
   ]
  },
  {
   "cell_type": "code",
   "execution_count": 225,
   "metadata": {},
   "outputs": [],
   "source": [
    "train_labels = train_labels.astype('float32')"
   ]
  },
  {
   "cell_type": "code",
   "execution_count": 226,
   "metadata": {},
   "outputs": [
    {
     "data": {
      "text/html": [
       "<div>\n",
       "<style scoped>\n",
       "    .dataframe tbody tr th:only-of-type {\n",
       "        vertical-align: middle;\n",
       "    }\n",
       "\n",
       "    .dataframe tbody tr th {\n",
       "        vertical-align: top;\n",
       "    }\n",
       "\n",
       "    .dataframe thead th {\n",
       "        text-align: right;\n",
       "    }\n",
       "</style>\n",
       "<table border=\"1\" class=\"dataframe\">\n",
       "  <thead>\n",
       "    <tr style=\"text-align: right;\">\n",
       "      <th></th>\n",
       "      <th>stressLevelM_1</th>\n",
       "      <th>stressLevelM_2</th>\n",
       "      <th>stressLevelM_3</th>\n",
       "    </tr>\n",
       "  </thead>\n",
       "  <tbody>\n",
       "    <tr>\n",
       "      <th>0</th>\n",
       "      <td>0.0</td>\n",
       "      <td>1.0</td>\n",
       "      <td>0.0</td>\n",
       "    </tr>\n",
       "    <tr>\n",
       "      <th>1</th>\n",
       "      <td>0.0</td>\n",
       "      <td>0.0</td>\n",
       "      <td>1.0</td>\n",
       "    </tr>\n",
       "    <tr>\n",
       "      <th>2</th>\n",
       "      <td>0.0</td>\n",
       "      <td>0.0</td>\n",
       "      <td>1.0</td>\n",
       "    </tr>\n",
       "    <tr>\n",
       "      <th>3</th>\n",
       "      <td>0.0</td>\n",
       "      <td>0.0</td>\n",
       "      <td>1.0</td>\n",
       "    </tr>\n",
       "    <tr>\n",
       "      <th>4</th>\n",
       "      <td>0.0</td>\n",
       "      <td>1.0</td>\n",
       "      <td>0.0</td>\n",
       "    </tr>\n",
       "    <tr>\n",
       "      <th>...</th>\n",
       "      <td>...</td>\n",
       "      <td>...</td>\n",
       "      <td>...</td>\n",
       "    </tr>\n",
       "    <tr>\n",
       "      <th>480</th>\n",
       "      <td>0.0</td>\n",
       "      <td>1.0</td>\n",
       "      <td>0.0</td>\n",
       "    </tr>\n",
       "    <tr>\n",
       "      <th>481</th>\n",
       "      <td>0.0</td>\n",
       "      <td>1.0</td>\n",
       "      <td>0.0</td>\n",
       "    </tr>\n",
       "    <tr>\n",
       "      <th>482</th>\n",
       "      <td>0.0</td>\n",
       "      <td>1.0</td>\n",
       "      <td>0.0</td>\n",
       "    </tr>\n",
       "    <tr>\n",
       "      <th>483</th>\n",
       "      <td>0.0</td>\n",
       "      <td>1.0</td>\n",
       "      <td>0.0</td>\n",
       "    </tr>\n",
       "    <tr>\n",
       "      <th>484</th>\n",
       "      <td>0.0</td>\n",
       "      <td>1.0</td>\n",
       "      <td>0.0</td>\n",
       "    </tr>\n",
       "  </tbody>\n",
       "</table>\n",
       "<p>485 rows × 3 columns</p>\n",
       "</div>"
      ],
      "text/plain": [
       "     stressLevelM_1  stressLevelM_2  stressLevelM_3\n",
       "0               0.0             1.0             0.0\n",
       "1               0.0             0.0             1.0\n",
       "2               0.0             0.0             1.0\n",
       "3               0.0             0.0             1.0\n",
       "4               0.0             1.0             0.0\n",
       "..              ...             ...             ...\n",
       "480             0.0             1.0             0.0\n",
       "481             0.0             1.0             0.0\n",
       "482             0.0             1.0             0.0\n",
       "483             0.0             1.0             0.0\n",
       "484             0.0             1.0             0.0\n",
       "\n",
       "[485 rows x 3 columns]"
      ]
     },
     "execution_count": 226,
     "metadata": {},
     "output_type": "execute_result"
    }
   ],
   "source": [
    "train_labels"
   ]
  },
  {
   "cell_type": "code",
   "execution_count": 227,
   "metadata": {},
   "outputs": [],
   "source": [
    "train_labels=train_labels.to_numpy()"
   ]
  },
  {
   "cell_type": "code",
   "execution_count": 358,
   "metadata": {},
   "outputs": [],
   "source": [
    "model = tf.keras.Sequential([\n",
    "    tf.keras.layers.Input((9,)),\n",
    "    tf.keras.layers.Dense(10000, activation='relu'),\n",
    "    tf.keras.layers.Dropout(0.2),\n",
    "    tf.keras.layers.Dense(50000, activation='relu'),\n",
    "    tf.keras.layers.Dropout(0.2),\n",
    "    tf.keras.layers.Dense(10000, activation='relu'),\n",
    "    tf.keras.layers.Dropout(0.2),\n",
    "    tf.keras.layers.Dense(3, activation='softmax'),\n",
    "])"
   ]
  },
  {
   "cell_type": "code",
   "execution_count": 359,
   "metadata": {},
   "outputs": [],
   "source": [
    "model.compile(optimizer='adam',loss=tf.keras.losses.categorical_crossentropy,metrics=['accuracy'])"
   ]
  },
  {
   "cell_type": "code",
   "execution_count": 360,
   "metadata": {},
   "outputs": [
    {
     "name": "stdout",
     "output_type": "stream",
     "text": [
      "Epoch 1/100\n"
     ]
    }
   ],
   "source": [
    "history = model.fit(train_features, train_labels, validation_split=0.2, epochs=100)"
   ]
  },
  {
   "cell_type": "code",
   "execution_count": 354,
   "metadata": {},
   "outputs": [
    {
     "name": "stdout",
     "output_type": "stream",
     "text": [
      "16/16 - 0s - loss: 0.8236 - accuracy: 0.5237 - 85ms/epoch - 5ms/step\n"
     ]
    }
   ],
   "source": [
    "test_loss, test_acc = model.evaluate(train_features, train_labels, verbose=2)"
   ]
  },
  {
   "cell_type": "code",
   "execution_count": 355,
   "metadata": {},
   "outputs": [
    {
     "data": {
      "image/png": "[encoded data removed]",
      "text/plain": [
       "<Figure size 432x288 with 1 Axes>"
      ]
     },
     "metadata": {
      "needs_background": "light"
     },
     "output_type": "display_data"
    },
    {
     "data": {
      "image/png": "[encoded data removed]",
      "text/plain": [
       "<Figure size 432x288 with 1 Axes>"
      ]
     },
     "metadata": {
      "needs_background": "light"
     },
     "output_type": "display_data"
    }
   ],
   "source": [
    "plt.plot(history.history['accuracy'])\n",
    "plt.plot(history.history['val_accuracy'])\n",
    "plt.title('model accuracy')\n",
    "plt.ylabel('accuracy')\n",
    "plt.xlabel('epoch')\n",
    "plt.legend(['train', 'test'], loc='upper left')\n",
    "plt.show()\n",
    "#loss\n",
    "plt.plot(history.history['loss'])\n",
    "plt.plot(history.history['val_loss'])\n",
    "plt.title('model accuracy')\n",
    "plt.ylabel('model loss')\n",
    "plt.xlabel('loss')\n",
    "plt.legend(['train', 'test'], loc='upper left')\n",
    "plt.show()"
   ]
  },
  {
   "cell_type": "code",
   "execution_count": 233,
   "metadata": {},
   "outputs": [],
   "source": [
    "test_data = pd.read_csv(\"metricscombi.csv\")"
   ]
  },
  {
   "cell_type": "code",
   "execution_count": 234,
   "metadata": {},
   "outputs": [],
   "source": [
    "columns_to_extract =['vel','angs','logCountM','distDif','clickD','clickTotalM','backSpaceM','leftSideM','rigthSideM']\n",
    "test_features = test_data[columns_to_extract]\n"
   ]
  },
  {
   "cell_type": "code",
   "execution_count": 235,
   "metadata": {},
   "outputs": [
    {
     "data": {
      "text/html": [
       "<div>\n",
       "<style scoped>\n",
       "    .dataframe tbody tr th:only-of-type {\n",
       "        vertical-align: middle;\n",
       "    }\n",
       "\n",
       "    .dataframe tbody tr th {\n",
       "        vertical-align: top;\n",
       "    }\n",
       "\n",
       "    .dataframe thead th {\n",
       "        text-align: right;\n",
       "    }\n",
       "</style>\n",
       "<table border=\"1\" class=\"dataframe\">\n",
       "  <thead>\n",
       "    <tr style=\"text-align: right;\">\n",
       "      <th></th>\n",
       "      <th>vel</th>\n",
       "      <th>angs</th>\n",
       "      <th>logCountM</th>\n",
       "      <th>distDif</th>\n",
       "      <th>clickD</th>\n",
       "      <th>clickTotalM</th>\n",
       "      <th>backSpaceM</th>\n",
       "      <th>leftSideM</th>\n",
       "      <th>rigthSideM</th>\n",
       "    </tr>\n",
       "  </thead>\n",
       "  <tbody>\n",
       "    <tr>\n",
       "      <th>0</th>\n",
       "      <td>1768.591350</td>\n",
       "      <td>33.754428</td>\n",
       "      <td>422</td>\n",
       "      <td>858.677921</td>\n",
       "      <td>19705.0</td>\n",
       "      <td>3</td>\n",
       "      <td>0</td>\n",
       "      <td>0</td>\n",
       "      <td>0</td>\n",
       "    </tr>\n",
       "    <tr>\n",
       "      <th>1</th>\n",
       "      <td>2111.446145</td>\n",
       "      <td>30.625793</td>\n",
       "      <td>441</td>\n",
       "      <td>1488.664138</td>\n",
       "      <td>19695.0</td>\n",
       "      <td>3</td>\n",
       "      <td>0</td>\n",
       "      <td>0</td>\n",
       "      <td>0</td>\n",
       "    </tr>\n",
       "    <tr>\n",
       "      <th>2</th>\n",
       "      <td>1410.154650</td>\n",
       "      <td>31.546801</td>\n",
       "      <td>325</td>\n",
       "      <td>875.608240</td>\n",
       "      <td>12953.0</td>\n",
       "      <td>4</td>\n",
       "      <td>0</td>\n",
       "      <td>0</td>\n",
       "      <td>0</td>\n",
       "    </tr>\n",
       "    <tr>\n",
       "      <th>3</th>\n",
       "      <td>1487.615475</td>\n",
       "      <td>28.488154</td>\n",
       "      <td>296</td>\n",
       "      <td>1217.816882</td>\n",
       "      <td>9752.0</td>\n",
       "      <td>3</td>\n",
       "      <td>0</td>\n",
       "      <td>0</td>\n",
       "      <td>0</td>\n",
       "    </tr>\n",
       "    <tr>\n",
       "      <th>4</th>\n",
       "      <td>1155.837119</td>\n",
       "      <td>36.113308</td>\n",
       "      <td>253</td>\n",
       "      <td>313.596228</td>\n",
       "      <td>82273.0</td>\n",
       "      <td>8</td>\n",
       "      <td>10</td>\n",
       "      <td>189</td>\n",
       "      <td>144</td>\n",
       "    </tr>\n",
       "  </tbody>\n",
       "</table>\n",
       "</div>"
      ],
      "text/plain": [
       "           vel       angs  logCountM      distDif   clickD  clickTotalM  \\\n",
       "0  1768.591350  33.754428        422   858.677921  19705.0            3   \n",
       "1  2111.446145  30.625793        441  1488.664138  19695.0            3   \n",
       "2  1410.154650  31.546801        325   875.608240  12953.0            4   \n",
       "3  1487.615475  28.488154        296  1217.816882   9752.0            3   \n",
       "4  1155.837119  36.113308        253   313.596228  82273.0            8   \n",
       "\n",
       "   backSpaceM  leftSideM  rigthSideM  \n",
       "0           0          0           0  \n",
       "1           0          0           0  \n",
       "2           0          0           0  \n",
       "3           0          0           0  \n",
       "4          10        189         144  "
      ]
     },
     "execution_count": 235,
     "metadata": {},
     "output_type": "execute_result"
    }
   ],
   "source": [
    "test_features.head()"
   ]
  },
  {
   "cell_type": "code",
   "execution_count": 236,
   "metadata": {},
   "outputs": [],
   "source": [
    "prediction = model.predict(test_features)"
   ]
  },
  {
   "cell_type": "code",
   "execution_count": 237,
   "metadata": {},
   "outputs": [
    {
     "data": {
      "text/plain": [
       "array([[0.04604691, 0.56910855, 0.38484448],\n",
       "       [0.04604691, 0.56910855, 0.38484448],\n",
       "       [0.04604691, 0.56910855, 0.38484448],\n",
       "       ...,\n",
       "       [0.04604691, 0.56910855, 0.38484448],\n",
       "       [0.04604691, 0.56910855, 0.38484448],\n",
       "       [0.04604691, 0.56910855, 0.38484448]], dtype=float32)"
      ]
     },
     "execution_count": 237,
     "metadata": {},
     "output_type": "execute_result"
    }
   ],
   "source": [
    "prediction"
   ]
  },
  {
   "cell_type": "code",
   "execution_count": 238,
   "metadata": {},
   "outputs": [],
   "source": [
    "out =prediction.round().astype(int)"
   ]
  },
  {
   "cell_type": "code",
   "execution_count": 242,
   "metadata": {},
   "outputs": [],
   "source": [
    "for i in range (len(out)):\n",
    "    if out[i][2]==1:\n",
    "        print(out[i][2])"
   ]
  },
  {
   "cell_type": "code",
   "execution_count": 149,
   "metadata": {},
   "outputs": [],
   "source": [
    "model.save('modelo_entrenado.h5')"
   ]
  }
 ],
 "metadata": {
  "interpreter": {
   "hash": "d3ebf1d88e4d4281e2b9041c92e7aaf70dffe9a31509acce943b5307fc117db8"
  },
  "kernelspec": {
   "display_name": "tensorflow1.9",
   "language": "python",
   "name": "python3"
  },
  "language_info": {
   "codemirror_mode": {
    "name": "ipython",
    "version": 3
   },
   "file_extension": ".py",
   "mimetype": "text/x-python",
   "name": "python",
   "nbconvert_exporter": "python",
   "pygments_lexer": "ipython3",
   "version": "3.10.2"
  }
 },
 "nbformat": 4,
 "nbformat_minor": 2
}
